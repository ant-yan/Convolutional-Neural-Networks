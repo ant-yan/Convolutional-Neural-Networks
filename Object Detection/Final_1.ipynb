{
  "nbformat": 4,
  "nbformat_minor": 0,
  "metadata": {
    "colab": {
      "provenance": [],
      "gpuType": "T4"
    },
    "kernelspec": {
      "name": "python3",
      "display_name": "Python 3"
    },
    "language_info": {
      "name": "python"
    },
    "accelerator": "GPU"
  },
  "cells": [
    {
      "cell_type": "code",
      "execution_count": 1,
      "metadata": {
        "colab": {
          "base_uri": "https://localhost:8080/",
          "height": 1000
        },
        "id": "cuCY8vnGgUi1",
        "outputId": "70f4346a-382a-4b6a-d857-3d2acc209f8e"
      },
      "outputs": [
        {
          "output_type": "stream",
          "name": "stdout",
          "text": [
            "Collecting ultralytics\n",
            "  Downloading ultralytics-8.3.146-py3-none-any.whl.metadata (37 kB)\n",
            "Requirement already satisfied: matplotlib in /usr/local/lib/python3.11/dist-packages (3.10.0)\n",
            "Requirement already satisfied: pandas in /usr/local/lib/python3.11/dist-packages (2.2.2)\n",
            "Requirement already satisfied: numpy>=1.23.0 in /usr/local/lib/python3.11/dist-packages (from ultralytics) (2.0.2)\n",
            "Requirement already satisfied: opencv-python>=4.6.0 in /usr/local/lib/python3.11/dist-packages (from ultralytics) (4.11.0.86)\n",
            "Requirement already satisfied: pillow>=7.1.2 in /usr/local/lib/python3.11/dist-packages (from ultralytics) (11.2.1)\n",
            "Requirement already satisfied: pyyaml>=5.3.1 in /usr/local/lib/python3.11/dist-packages (from ultralytics) (6.0.2)\n",
            "Requirement already satisfied: requests>=2.23.0 in /usr/local/lib/python3.11/dist-packages (from ultralytics) (2.32.3)\n",
            "Requirement already satisfied: scipy>=1.4.1 in /usr/local/lib/python3.11/dist-packages (from ultralytics) (1.15.3)\n",
            "Requirement already satisfied: torch>=1.8.0 in /usr/local/lib/python3.11/dist-packages (from ultralytics) (2.6.0+cu124)\n",
            "Requirement already satisfied: torchvision>=0.9.0 in /usr/local/lib/python3.11/dist-packages (from ultralytics) (0.21.0+cu124)\n",
            "Requirement already satisfied: tqdm>=4.64.0 in /usr/local/lib/python3.11/dist-packages (from ultralytics) (4.67.1)\n",
            "Requirement already satisfied: psutil in /usr/local/lib/python3.11/dist-packages (from ultralytics) (5.9.5)\n",
            "Requirement already satisfied: py-cpuinfo in /usr/local/lib/python3.11/dist-packages (from ultralytics) (9.0.0)\n",
            "Collecting ultralytics-thop>=2.0.0 (from ultralytics)\n",
            "  Downloading ultralytics_thop-2.0.14-py3-none-any.whl.metadata (9.4 kB)\n",
            "Requirement already satisfied: contourpy>=1.0.1 in /usr/local/lib/python3.11/dist-packages (from matplotlib) (1.3.2)\n",
            "Requirement already satisfied: cycler>=0.10 in /usr/local/lib/python3.11/dist-packages (from matplotlib) (0.12.1)\n",
            "Requirement already satisfied: fonttools>=4.22.0 in /usr/local/lib/python3.11/dist-packages (from matplotlib) (4.58.0)\n",
            "Requirement already satisfied: kiwisolver>=1.3.1 in /usr/local/lib/python3.11/dist-packages (from matplotlib) (1.4.8)\n",
            "Requirement already satisfied: packaging>=20.0 in /usr/local/lib/python3.11/dist-packages (from matplotlib) (24.2)\n",
            "Requirement already satisfied: pyparsing>=2.3.1 in /usr/local/lib/python3.11/dist-packages (from matplotlib) (3.2.3)\n",
            "Requirement already satisfied: python-dateutil>=2.7 in /usr/local/lib/python3.11/dist-packages (from matplotlib) (2.9.0.post0)\n",
            "Requirement already satisfied: pytz>=2020.1 in /usr/local/lib/python3.11/dist-packages (from pandas) (2025.2)\n",
            "Requirement already satisfied: tzdata>=2022.7 in /usr/local/lib/python3.11/dist-packages (from pandas) (2025.2)\n",
            "Requirement already satisfied: six>=1.5 in /usr/local/lib/python3.11/dist-packages (from python-dateutil>=2.7->matplotlib) (1.17.0)\n",
            "Requirement already satisfied: charset-normalizer<4,>=2 in /usr/local/lib/python3.11/dist-packages (from requests>=2.23.0->ultralytics) (3.4.2)\n",
            "Requirement already satisfied: idna<4,>=2.5 in /usr/local/lib/python3.11/dist-packages (from requests>=2.23.0->ultralytics) (3.10)\n",
            "Requirement already satisfied: urllib3<3,>=1.21.1 in /usr/local/lib/python3.11/dist-packages (from requests>=2.23.0->ultralytics) (2.4.0)\n",
            "Requirement already satisfied: certifi>=2017.4.17 in /usr/local/lib/python3.11/dist-packages (from requests>=2.23.0->ultralytics) (2025.4.26)\n",
            "Requirement already satisfied: filelock in /usr/local/lib/python3.11/dist-packages (from torch>=1.8.0->ultralytics) (3.18.0)\n",
            "Requirement already satisfied: typing-extensions>=4.10.0 in /usr/local/lib/python3.11/dist-packages (from torch>=1.8.0->ultralytics) (4.13.2)\n",
            "Requirement already satisfied: networkx in /usr/local/lib/python3.11/dist-packages (from torch>=1.8.0->ultralytics) (3.4.2)\n",
            "Requirement already satisfied: jinja2 in /usr/local/lib/python3.11/dist-packages (from torch>=1.8.0->ultralytics) (3.1.6)\n",
            "Requirement already satisfied: fsspec in /usr/local/lib/python3.11/dist-packages (from torch>=1.8.0->ultralytics) (2025.3.2)\n",
            "Collecting nvidia-cuda-nvrtc-cu12==12.4.127 (from torch>=1.8.0->ultralytics)\n",
            "  Downloading nvidia_cuda_nvrtc_cu12-12.4.127-py3-none-manylinux2014_x86_64.whl.metadata (1.5 kB)\n",
            "Collecting nvidia-cuda-runtime-cu12==12.4.127 (from torch>=1.8.0->ultralytics)\n",
            "  Downloading nvidia_cuda_runtime_cu12-12.4.127-py3-none-manylinux2014_x86_64.whl.metadata (1.5 kB)\n",
            "Collecting nvidia-cuda-cupti-cu12==12.4.127 (from torch>=1.8.0->ultralytics)\n",
            "  Downloading nvidia_cuda_cupti_cu12-12.4.127-py3-none-manylinux2014_x86_64.whl.metadata (1.6 kB)\n",
            "Collecting nvidia-cudnn-cu12==9.1.0.70 (from torch>=1.8.0->ultralytics)\n",
            "  Downloading nvidia_cudnn_cu12-9.1.0.70-py3-none-manylinux2014_x86_64.whl.metadata (1.6 kB)\n",
            "Collecting nvidia-cublas-cu12==12.4.5.8 (from torch>=1.8.0->ultralytics)\n",
            "  Downloading nvidia_cublas_cu12-12.4.5.8-py3-none-manylinux2014_x86_64.whl.metadata (1.5 kB)\n",
            "Collecting nvidia-cufft-cu12==11.2.1.3 (from torch>=1.8.0->ultralytics)\n",
            "  Downloading nvidia_cufft_cu12-11.2.1.3-py3-none-manylinux2014_x86_64.whl.metadata (1.5 kB)\n",
            "Collecting nvidia-curand-cu12==10.3.5.147 (from torch>=1.8.0->ultralytics)\n",
            "  Downloading nvidia_curand_cu12-10.3.5.147-py3-none-manylinux2014_x86_64.whl.metadata (1.5 kB)\n",
            "Collecting nvidia-cusolver-cu12==11.6.1.9 (from torch>=1.8.0->ultralytics)\n",
            "  Downloading nvidia_cusolver_cu12-11.6.1.9-py3-none-manylinux2014_x86_64.whl.metadata (1.6 kB)\n",
            "Collecting nvidia-cusparse-cu12==12.3.1.170 (from torch>=1.8.0->ultralytics)\n",
            "  Downloading nvidia_cusparse_cu12-12.3.1.170-py3-none-manylinux2014_x86_64.whl.metadata (1.6 kB)\n",
            "Requirement already satisfied: nvidia-cusparselt-cu12==0.6.2 in /usr/local/lib/python3.11/dist-packages (from torch>=1.8.0->ultralytics) (0.6.2)\n",
            "Requirement already satisfied: nvidia-nccl-cu12==2.21.5 in /usr/local/lib/python3.11/dist-packages (from torch>=1.8.0->ultralytics) (2.21.5)\n",
            "Requirement already satisfied: nvidia-nvtx-cu12==12.4.127 in /usr/local/lib/python3.11/dist-packages (from torch>=1.8.0->ultralytics) (12.4.127)\n",
            "Collecting nvidia-nvjitlink-cu12==12.4.127 (from torch>=1.8.0->ultralytics)\n",
            "  Downloading nvidia_nvjitlink_cu12-12.4.127-py3-none-manylinux2014_x86_64.whl.metadata (1.5 kB)\n",
            "Requirement already satisfied: triton==3.2.0 in /usr/local/lib/python3.11/dist-packages (from torch>=1.8.0->ultralytics) (3.2.0)\n",
            "Requirement already satisfied: sympy==1.13.1 in /usr/local/lib/python3.11/dist-packages (from torch>=1.8.0->ultralytics) (1.13.1)\n",
            "Requirement already satisfied: mpmath<1.4,>=1.1.0 in /usr/local/lib/python3.11/dist-packages (from sympy==1.13.1->torch>=1.8.0->ultralytics) (1.3.0)\n",
            "Requirement already satisfied: MarkupSafe>=2.0 in /usr/local/lib/python3.11/dist-packages (from jinja2->torch>=1.8.0->ultralytics) (3.0.2)\n",
            "Downloading ultralytics-8.3.146-py3-none-any.whl (1.0 MB)\n",
            "\u001b[2K   \u001b[90m━━━━━━━━━━━━━━━━━━━━━━━━━━━━━━━━━━━━━━━━\u001b[0m \u001b[32m1.0/1.0 MB\u001b[0m \u001b[31m26.5 MB/s\u001b[0m eta \u001b[36m0:00:00\u001b[0m\n",
            "\u001b[?25hDownloading nvidia_cublas_cu12-12.4.5.8-py3-none-manylinux2014_x86_64.whl (363.4 MB)\n",
            "\u001b[2K   \u001b[90m━━━━━━━━━━━━━━━━━━━━━━━━━━━━━━━━━━━━━━━━\u001b[0m \u001b[32m363.4/363.4 MB\u001b[0m \u001b[31m4.4 MB/s\u001b[0m eta \u001b[36m0:00:00\u001b[0m\n",
            "\u001b[?25hDownloading nvidia_cuda_cupti_cu12-12.4.127-py3-none-manylinux2014_x86_64.whl (13.8 MB)\n",
            "\u001b[2K   \u001b[90m━━━━━━━━━━━━━━━━━━━━━━━━━━━━━━━━━━━━━━━━\u001b[0m \u001b[32m13.8/13.8 MB\u001b[0m \u001b[31m84.9 MB/s\u001b[0m eta \u001b[36m0:00:00\u001b[0m\n",
            "\u001b[?25hDownloading nvidia_cuda_nvrtc_cu12-12.4.127-py3-none-manylinux2014_x86_64.whl (24.6 MB)\n",
            "\u001b[2K   \u001b[90m━━━━━━━━━━━━━━━━━━━━━━━━━━━━━━━━━━━━━━━━\u001b[0m \u001b[32m24.6/24.6 MB\u001b[0m \u001b[31m74.8 MB/s\u001b[0m eta \u001b[36m0:00:00\u001b[0m\n",
            "\u001b[?25hDownloading nvidia_cuda_runtime_cu12-12.4.127-py3-none-manylinux2014_x86_64.whl (883 kB)\n",
            "\u001b[2K   \u001b[90m━━━━━━━━━━━━━━━━━━━━━━━━━━━━━━━━━━━━━━━━\u001b[0m \u001b[32m883.7/883.7 kB\u001b[0m \u001b[31m58.9 MB/s\u001b[0m eta \u001b[36m0:00:00\u001b[0m\n",
            "\u001b[?25hDownloading nvidia_cudnn_cu12-9.1.0.70-py3-none-manylinux2014_x86_64.whl (664.8 MB)\n",
            "\u001b[2K   \u001b[90m━━━━━━━━━━━━━━━━━━━━━━━━━━━━━━━━━━━━━━━━\u001b[0m \u001b[32m664.8/664.8 MB\u001b[0m \u001b[31m2.7 MB/s\u001b[0m eta \u001b[36m0:00:00\u001b[0m\n",
            "\u001b[?25hDownloading nvidia_cufft_cu12-11.2.1.3-py3-none-manylinux2014_x86_64.whl (211.5 MB)\n",
            "\u001b[2K   \u001b[90m━━━━━━━━━━━━━━━━━━━━━━━━━━━━━━━━━━━━━━━━\u001b[0m \u001b[32m211.5/211.5 MB\u001b[0m \u001b[31m5.1 MB/s\u001b[0m eta \u001b[36m0:00:00\u001b[0m\n",
            "\u001b[?25hDownloading nvidia_curand_cu12-10.3.5.147-py3-none-manylinux2014_x86_64.whl (56.3 MB)\n",
            "\u001b[2K   \u001b[90m━━━━━━━━━━━━━━━━━━━━━━━━━━━━━━━━━━━━━━━━\u001b[0m \u001b[32m56.3/56.3 MB\u001b[0m \u001b[31m10.6 MB/s\u001b[0m eta \u001b[36m0:00:00\u001b[0m\n",
            "\u001b[?25hDownloading nvidia_cusolver_cu12-11.6.1.9-py3-none-manylinux2014_x86_64.whl (127.9 MB)\n",
            "\u001b[2K   \u001b[90m━━━━━━━━━━━━━━━━━━━━━━━━━━━━━━━━━━━━━━━━\u001b[0m \u001b[32m127.9/127.9 MB\u001b[0m \u001b[31m10.4 MB/s\u001b[0m eta \u001b[36m0:00:00\u001b[0m\n",
            "\u001b[?25hDownloading nvidia_cusparse_cu12-12.3.1.170-py3-none-manylinux2014_x86_64.whl (207.5 MB)\n",
            "\u001b[2K   \u001b[90m━━━━━━━━━━━━━━━━━━━━━━━━━━━━━━━━━━━━━━━━\u001b[0m \u001b[32m207.5/207.5 MB\u001b[0m \u001b[31m5.1 MB/s\u001b[0m eta \u001b[36m0:00:00\u001b[0m\n",
            "\u001b[?25hDownloading nvidia_nvjitlink_cu12-12.4.127-py3-none-manylinux2014_x86_64.whl (21.1 MB)\n",
            "\u001b[2K   \u001b[90m━━━━━━━━━━━━━━━━━━━━━━━━━━━━━━━━━━━━━━━━\u001b[0m \u001b[32m21.1/21.1 MB\u001b[0m \u001b[31m30.5 MB/s\u001b[0m eta \u001b[36m0:00:00\u001b[0m\n",
            "\u001b[?25hDownloading ultralytics_thop-2.0.14-py3-none-any.whl (26 kB)\n",
            "Installing collected packages: nvidia-nvjitlink-cu12, nvidia-curand-cu12, nvidia-cufft-cu12, nvidia-cuda-runtime-cu12, nvidia-cuda-nvrtc-cu12, nvidia-cuda-cupti-cu12, nvidia-cublas-cu12, nvidia-cusparse-cu12, nvidia-cudnn-cu12, nvidia-cusolver-cu12, ultralytics-thop, ultralytics\n",
            "  Attempting uninstall: nvidia-nvjitlink-cu12\n",
            "    Found existing installation: nvidia-nvjitlink-cu12 12.5.82\n",
            "    Uninstalling nvidia-nvjitlink-cu12-12.5.82:\n",
            "      Successfully uninstalled nvidia-nvjitlink-cu12-12.5.82\n",
            "  Attempting uninstall: nvidia-curand-cu12\n",
            "    Found existing installation: nvidia-curand-cu12 10.3.6.82\n",
            "    Uninstalling nvidia-curand-cu12-10.3.6.82:\n",
            "      Successfully uninstalled nvidia-curand-cu12-10.3.6.82\n",
            "  Attempting uninstall: nvidia-cufft-cu12\n",
            "    Found existing installation: nvidia-cufft-cu12 11.2.3.61\n",
            "    Uninstalling nvidia-cufft-cu12-11.2.3.61:\n",
            "      Successfully uninstalled nvidia-cufft-cu12-11.2.3.61\n",
            "  Attempting uninstall: nvidia-cuda-runtime-cu12\n",
            "    Found existing installation: nvidia-cuda-runtime-cu12 12.5.82\n",
            "    Uninstalling nvidia-cuda-runtime-cu12-12.5.82:\n",
            "      Successfully uninstalled nvidia-cuda-runtime-cu12-12.5.82\n",
            "  Attempting uninstall: nvidia-cuda-nvrtc-cu12\n",
            "    Found existing installation: nvidia-cuda-nvrtc-cu12 12.5.82\n",
            "    Uninstalling nvidia-cuda-nvrtc-cu12-12.5.82:\n",
            "      Successfully uninstalled nvidia-cuda-nvrtc-cu12-12.5.82\n",
            "  Attempting uninstall: nvidia-cuda-cupti-cu12\n",
            "    Found existing installation: nvidia-cuda-cupti-cu12 12.5.82\n",
            "    Uninstalling nvidia-cuda-cupti-cu12-12.5.82:\n",
            "      Successfully uninstalled nvidia-cuda-cupti-cu12-12.5.82\n",
            "  Attempting uninstall: nvidia-cublas-cu12\n",
            "    Found existing installation: nvidia-cublas-cu12 12.5.3.2\n",
            "    Uninstalling nvidia-cublas-cu12-12.5.3.2:\n",
            "      Successfully uninstalled nvidia-cublas-cu12-12.5.3.2\n",
            "  Attempting uninstall: nvidia-cusparse-cu12\n",
            "    Found existing installation: nvidia-cusparse-cu12 12.5.1.3\n",
            "    Uninstalling nvidia-cusparse-cu12-12.5.1.3:\n",
            "      Successfully uninstalled nvidia-cusparse-cu12-12.5.1.3\n",
            "  Attempting uninstall: nvidia-cudnn-cu12\n",
            "    Found existing installation: nvidia-cudnn-cu12 9.3.0.75\n",
            "    Uninstalling nvidia-cudnn-cu12-9.3.0.75:\n",
            "      Successfully uninstalled nvidia-cudnn-cu12-9.3.0.75\n",
            "  Attempting uninstall: nvidia-cusolver-cu12\n",
            "    Found existing installation: nvidia-cusolver-cu12 11.6.3.83\n",
            "    Uninstalling nvidia-cusolver-cu12-11.6.3.83:\n",
            "      Successfully uninstalled nvidia-cusolver-cu12-11.6.3.83\n",
            "Successfully installed nvidia-cublas-cu12-12.4.5.8 nvidia-cuda-cupti-cu12-12.4.127 nvidia-cuda-nvrtc-cu12-12.4.127 nvidia-cuda-runtime-cu12-12.4.127 nvidia-cudnn-cu12-9.1.0.70 nvidia-cufft-cu12-11.2.1.3 nvidia-curand-cu12-10.3.5.147 nvidia-cusolver-cu12-11.6.1.9 nvidia-cusparse-cu12-12.3.1.170 nvidia-nvjitlink-cu12-12.4.127 ultralytics-8.3.146 ultralytics-thop-2.0.14\n",
            "Creating new Ultralytics Settings v0.0.6 file ✅ \n",
            "View Ultralytics Settings with 'yolo settings' or at '/root/.config/Ultralytics/settings.json'\n",
            "Update Settings with 'yolo settings key=value', i.e. 'yolo settings runs_dir=path/to/dir'. For help see https://docs.ultralytics.com/quickstart/#ultralytics-settings.\n",
            "Training device: cuda\n",
            "YOLOv8 Object Detection Training Pipeline\n",
            "=============================================\n",
            "Preparing Pascal VOC dataset for YOLO training...\n"
          ]
        },
        {
          "output_type": "stream",
          "name": "stderr",
          "text": [
            "100%|██████████| 2.00G/2.00G [01:37<00:00, 20.5MB/s]\n"
          ]
        },
        {
          "output_type": "stream",
          "name": "stdout",
          "text": [
            "Processing train split...\n",
            "Transformed 0/5717 samples\n",
            "Transformed 1000/5717 samples\n",
            "Transformed 2000/5717 samples\n",
            "Transformed 3000/5717 samples\n",
            "Transformed 4000/5717 samples\n",
            "Transformed 5000/5717 samples\n",
            "Processing val split...\n",
            "Transformed 0/5823 samples\n",
            "Transformed 1000/5823 samples\n",
            "Transformed 2000/5823 samples\n",
            "Transformed 3000/5823 samples\n",
            "Transformed 4000/5823 samples\n",
            "Transformed 5000/5823 samples\n",
            "Dataset preparation complete: 5717 training samples, 5823 validation samples\n",
            "\n",
            "Initializing and training YOLOv8 model...\n",
            "Downloading https://github.com/ultralytics/assets/releases/download/v8.3.0/yolov8n.pt to 'yolov8n.pt'...\n"
          ]
        },
        {
          "output_type": "stream",
          "name": "stderr",
          "text": [
            "100%|██████████| 6.25M/6.25M [00:00<00:00, 86.6MB/s]\n"
          ]
        },
        {
          "output_type": "stream",
          "name": "stdout",
          "text": [
            "Ultralytics 8.3.146 🚀 Python-3.11.12 torch-2.6.0+cu124 CUDA:0 (Tesla T4, 15095MiB)\n",
            "\u001b[34m\u001b[1mengine/trainer: \u001b[0magnostic_nms=False, amp=True, augment=False, auto_augment=randaugment, batch=16, bgr=0.0, box=7.5, cache=False, cfg=None, classes=None, close_mosaic=10, cls=0.5, conf=None, copy_paste=0.0, copy_paste_mode=flip, cos_lr=False, cutmix=0.0, data=pascal_voc.yaml, degrees=0.0, deterministic=True, device=0, dfl=1.5, dnn=False, dropout=0.0, dynamic=False, embed=None, epochs=50, erasing=0.4, exist_ok=False, fliplr=0.5, flipud=0.0, format=torchscript, fraction=1.0, freeze=None, half=False, hsv_h=0.015, hsv_s=0.7, hsv_v=0.4, imgsz=640, int8=False, iou=0.7, keras=False, kobj=1.0, line_width=None, lr0=0.01, lrf=0.01, mask_ratio=4, max_det=300, mixup=0.0, mode=train, model=yolov8n.pt, momentum=0.937, mosaic=1.0, multi_scale=False, name=yolo_pascal_voc, nbs=64, nms=False, opset=None, optimize=False, optimizer=auto, overlap_mask=True, patience=10, perspective=0.0, plots=True, pose=12.0, pretrained=True, profile=False, project=None, rect=False, resume=False, retina_masks=False, save=True, save_conf=False, save_crop=False, save_dir=runs/detect/yolo_pascal_voc, save_frames=False, save_json=False, save_period=10, save_txt=False, scale=0.5, seed=0, shear=0.0, show=False, show_boxes=True, show_conf=True, show_labels=True, simplify=True, single_cls=False, source=None, split=val, stream_buffer=False, task=detect, time=None, tracker=botsort.yaml, translate=0.1, val=True, verbose=True, vid_stride=1, visualize=False, warmup_bias_lr=0.1, warmup_epochs=3.0, warmup_momentum=0.8, weight_decay=0.0005, workers=8, workspace=None\n",
            "Downloading https://ultralytics.com/assets/Arial.ttf to '/root/.config/Ultralytics/Arial.ttf'...\n"
          ]
        },
        {
          "output_type": "stream",
          "name": "stderr",
          "text": [
            "100%|██████████| 755k/755k [00:00<00:00, 23.5MB/s]"
          ]
        },
        {
          "output_type": "stream",
          "name": "stdout",
          "text": [
            "Overriding model.yaml nc=80 with nc=20\n",
            "\n",
            "                   from  n    params  module                                       arguments                     \n",
            "  0                  -1  1       464  ultralytics.nn.modules.conv.Conv             [3, 16, 3, 2]                 \n",
            "  1                  -1  1      4672  ultralytics.nn.modules.conv.Conv             [16, 32, 3, 2]                \n",
            "  2                  -1  1      7360  ultralytics.nn.modules.block.C2f             [32, 32, 1, True]             \n",
            "  3                  -1  1     18560  ultralytics.nn.modules.conv.Conv             [32, 64, 3, 2]                \n",
            "  4                  -1  2     49664  ultralytics.nn.modules.block.C2f             [64, 64, 2, True]             \n",
            "  5                  -1  1     73984  ultralytics.nn.modules.conv.Conv             [64, 128, 3, 2]               \n",
            "  6                  -1  2    197632  ultralytics.nn.modules.block.C2f             [128, 128, 2, True]           \n",
            "  7                  -1  1    295424  ultralytics.nn.modules.conv.Conv             [128, 256, 3, 2]              \n",
            "  8                  -1  1    460288  ultralytics.nn.modules.block.C2f             [256, 256, 1, True]           \n",
            "  9                  -1  1    164608  ultralytics.nn.modules.block.SPPF            [256, 256, 5]                 \n",
            " 10                  -1  1         0  torch.nn.modules.upsampling.Upsample         [None, 2, 'nearest']          \n",
            " 11             [-1, 6]  1         0  ultralytics.nn.modules.conv.Concat           [1]                           \n",
            " 12                  -1  1    148224  ultralytics.nn.modules.block.C2f             [384, 128, 1]                 \n",
            " 13                  -1  1         0  torch.nn.modules.upsampling.Upsample         [None, 2, 'nearest']          \n",
            " 14             [-1, 4]  1         0  ultralytics.nn.modules.conv.Concat           [1]                           \n",
            " 15                  -1  1     37248  ultralytics.nn.modules.block.C2f             [192, 64, 1]                  \n",
            " 16                  -1  1     36992  ultralytics.nn.modules.conv.Conv             [64, 64, 3, 2]                \n",
            " 17            [-1, 12]  1         0  ultralytics.nn.modules.conv.Concat           [1]                           \n",
            " 18                  -1  1    123648  ultralytics.nn.modules.block.C2f             [192, 128, 1]                 \n",
            " 19                  -1  1    147712  ultralytics.nn.modules.conv.Conv             [128, 128, 3, 2]              \n",
            " 20             [-1, 9]  1         0  ultralytics.nn.modules.conv.Concat           [1]                           \n",
            " 21                  -1  1    493056  ultralytics.nn.modules.block.C2f             [384, 256, 1]                 \n",
            " 22        [15, 18, 21]  1    755212  ultralytics.nn.modules.head.Detect           [20, [64, 128, 256]]          \n"
          ]
        },
        {
          "output_type": "stream",
          "name": "stderr",
          "text": [
            "\n"
          ]
        },
        {
          "output_type": "stream",
          "name": "stdout",
          "text": [
            "Model summary: 129 layers, 3,014,748 parameters, 3,014,732 gradients, 8.2 GFLOPs\n",
            "\n",
            "Transferred 319/355 items from pretrained weights\n",
            "Freezing layer 'model.22.dfl.conv.weight'\n",
            "\u001b[34m\u001b[1mAMP: \u001b[0mrunning Automatic Mixed Precision (AMP) checks...\n",
            "Downloading https://github.com/ultralytics/assets/releases/download/v8.3.0/yolo11n.pt to 'yolo11n.pt'...\n"
          ]
        },
        {
          "output_type": "stream",
          "name": "stderr",
          "text": [
            "100%|██████████| 5.35M/5.35M [00:00<00:00, 86.2MB/s]\n"
          ]
        },
        {
          "output_type": "stream",
          "name": "stdout",
          "text": [
            "\u001b[34m\u001b[1mAMP: \u001b[0mchecks passed ✅\n",
            "\u001b[34m\u001b[1mtrain: \u001b[0mFast image access ✅ (ping: 0.0±0.0 ms, read: 947.0±448.8 MB/s, size: 31.1 KB)\n"
          ]
        },
        {
          "output_type": "stream",
          "name": "stderr",
          "text": [
            "\u001b[34m\u001b[1mtrain: \u001b[0mScanning /content/data/VOC/train/labels... 5717 images, 0 backgrounds, 0 corrupt: 100%|██████████| 5717/5717 [00:02<00:00, 2393.92it/s]\n"
          ]
        },
        {
          "output_type": "stream",
          "name": "stdout",
          "text": [
            "\u001b[34m\u001b[1mtrain: \u001b[0mNew cache created: /content/data/VOC/train/labels.cache\n",
            "\u001b[34m\u001b[1malbumentations: \u001b[0mBlur(p=0.01, blur_limit=(3, 7)), MedianBlur(p=0.01, blur_limit=(3, 7)), ToGray(p=0.01, method='weighted_average', num_output_channels=3), CLAHE(p=0.01, clip_limit=(1.0, 4.0), tile_grid_size=(8, 8))\n",
            "\u001b[34m\u001b[1mval: \u001b[0mFast image access ✅ (ping: 0.0±0.0 ms, read: 536.7±209.5 MB/s, size: 31.9 KB)\n"
          ]
        },
        {
          "output_type": "stream",
          "name": "stderr",
          "text": [
            "\u001b[34m\u001b[1mval: \u001b[0mScanning /content/data/VOC/val/labels... 5823 images, 0 backgrounds, 0 corrupt: 100%|██████████| 5823/5823 [00:02<00:00, 1962.50it/s]\n"
          ]
        },
        {
          "output_type": "stream",
          "name": "stdout",
          "text": [
            "\u001b[34m\u001b[1mval: \u001b[0mNew cache created: /content/data/VOC/val/labels.cache\n",
            "Plotting labels to runs/detect/yolo_pascal_voc/labels.jpg... \n",
            "\u001b[34m\u001b[1moptimizer:\u001b[0m 'optimizer=auto' found, ignoring 'lr0=0.01' and 'momentum=0.937' and determining best 'optimizer', 'lr0' and 'momentum' automatically... \n",
            "\u001b[34m\u001b[1moptimizer:\u001b[0m AdamW(lr=0.000417, momentum=0.9) with parameter groups 57 weight(decay=0.0), 64 weight(decay=0.0005), 63 bias(decay=0.0)\n",
            "Image sizes 640 train, 640 val\n",
            "Using 2 dataloader workers\n",
            "Logging results to \u001b[1mruns/detect/yolo_pascal_voc\u001b[0m\n",
            "Starting training for 50 epochs...\n",
            "\n",
            "      Epoch    GPU_mem   box_loss   cls_loss   dfl_loss  Instances       Size\n"
          ]
        },
        {
          "output_type": "stream",
          "name": "stderr",
          "text": [
            "       1/50      2.26G      1.026      2.808       1.29         28        640: 100%|██████████| 358/358 [01:37<00:00,  3.67it/s]\n",
            "                 Class     Images  Instances      Box(P          R      mAP50  mAP50-95): 100%|██████████| 182/182 [00:45<00:00,  4.01it/s]\n"
          ]
        },
        {
          "output_type": "stream",
          "name": "stdout",
          "text": [
            "                   all       5823      15787      0.626      0.563      0.583      0.403\n",
            "\n",
            "      Epoch    GPU_mem   box_loss   cls_loss   dfl_loss  Instances       Size\n"
          ]
        },
        {
          "output_type": "stream",
          "name": "stderr",
          "text": [
            "       2/50      3.39G      1.085      1.998      1.343         31        640: 100%|██████████| 358/358 [01:34<00:00,  3.78it/s]\n",
            "                 Class     Images  Instances      Box(P          R      mAP50  mAP50-95): 100%|██████████| 182/182 [00:43<00:00,  4.17it/s]\n"
          ]
        },
        {
          "output_type": "stream",
          "name": "stdout",
          "text": [
            "                   all       5823      15787      0.607      0.511      0.538      0.352\n",
            "\n",
            "      Epoch    GPU_mem   box_loss   cls_loss   dfl_loss  Instances       Size\n"
          ]
        },
        {
          "output_type": "stream",
          "name": "stderr",
          "text": [
            "       3/50      3.42G      1.122      1.967      1.373         25        640: 100%|██████████| 358/358 [01:33<00:00,  3.84it/s]\n",
            "                 Class     Images  Instances      Box(P          R      mAP50  mAP50-95): 100%|██████████| 182/182 [00:43<00:00,  4.15it/s]\n"
          ]
        },
        {
          "output_type": "stream",
          "name": "stdout",
          "text": [
            "                   all       5823      15787      0.573       0.52      0.535      0.351\n",
            "\n",
            "      Epoch    GPU_mem   box_loss   cls_loss   dfl_loss  Instances       Size\n"
          ]
        },
        {
          "output_type": "stream",
          "name": "stderr",
          "text": [
            "       4/50      3.43G      1.119      1.883      1.364         21        640: 100%|██████████| 358/358 [01:31<00:00,  3.91it/s]\n",
            "                 Class     Images  Instances      Box(P          R      mAP50  mAP50-95): 100%|██████████| 182/182 [00:43<00:00,  4.17it/s]\n"
          ]
        },
        {
          "output_type": "stream",
          "name": "stdout",
          "text": [
            "                   all       5823      15787      0.603      0.505      0.548       0.36\n",
            "\n",
            "      Epoch    GPU_mem   box_loss   cls_loss   dfl_loss  Instances       Size\n"
          ]
        },
        {
          "output_type": "stream",
          "name": "stderr",
          "text": [
            "       5/50      3.45G      1.116       1.83      1.359         28        640: 100%|██████████| 358/358 [01:32<00:00,  3.87it/s]\n",
            "                 Class     Images  Instances      Box(P          R      mAP50  mAP50-95): 100%|██████████| 182/182 [00:43<00:00,  4.17it/s]\n"
          ]
        },
        {
          "output_type": "stream",
          "name": "stdout",
          "text": [
            "                   all       5823      15787      0.642      0.532      0.568      0.363\n",
            "\n",
            "      Epoch    GPU_mem   box_loss   cls_loss   dfl_loss  Instances       Size\n"
          ]
        },
        {
          "output_type": "stream",
          "name": "stderr",
          "text": [
            "       6/50      3.47G      1.101      1.747      1.352         21        640: 100%|██████████| 358/358 [01:32<00:00,  3.88it/s]\n",
            "                 Class     Images  Instances      Box(P          R      mAP50  mAP50-95): 100%|██████████| 182/182 [00:42<00:00,  4.29it/s]\n"
          ]
        },
        {
          "output_type": "stream",
          "name": "stdout",
          "text": [
            "                   all       5823      15787       0.64      0.542      0.579      0.382\n",
            "\n",
            "      Epoch    GPU_mem   box_loss   cls_loss   dfl_loss  Instances       Size\n"
          ]
        },
        {
          "output_type": "stream",
          "name": "stderr",
          "text": [
            "       7/50      3.48G       1.09      1.685      1.344         35        640: 100%|██████████| 358/358 [01:31<00:00,  3.93it/s]\n",
            "                 Class     Images  Instances      Box(P          R      mAP50  mAP50-95): 100%|██████████| 182/182 [00:42<00:00,  4.32it/s]\n"
          ]
        },
        {
          "output_type": "stream",
          "name": "stdout",
          "text": [
            "                   all       5823      15787      0.663       0.56      0.609      0.407\n",
            "\n",
            "      Epoch    GPU_mem   box_loss   cls_loss   dfl_loss  Instances       Size\n"
          ]
        },
        {
          "output_type": "stream",
          "name": "stderr",
          "text": [
            "       8/50      3.49G      1.083      1.622      1.333         28        640: 100%|██████████| 358/358 [01:33<00:00,  3.84it/s]\n",
            "                 Class     Images  Instances      Box(P          R      mAP50  mAP50-95): 100%|██████████| 182/182 [00:42<00:00,  4.24it/s]\n"
          ]
        },
        {
          "output_type": "stream",
          "name": "stdout",
          "text": [
            "                   all       5823      15787       0.68      0.542      0.601      0.401\n",
            "\n",
            "      Epoch    GPU_mem   box_loss   cls_loss   dfl_loss  Instances       Size\n"
          ]
        },
        {
          "output_type": "stream",
          "name": "stderr",
          "text": [
            "       9/50      3.51G      1.058      1.567      1.324         45        640: 100%|██████████| 358/358 [01:32<00:00,  3.88it/s]\n",
            "                 Class     Images  Instances      Box(P          R      mAP50  mAP50-95): 100%|██████████| 182/182 [00:43<00:00,  4.18it/s]\n"
          ]
        },
        {
          "output_type": "stream",
          "name": "stdout",
          "text": [
            "                   all       5823      15787       0.65      0.542      0.589      0.388\n",
            "\n",
            "      Epoch    GPU_mem   box_loss   cls_loss   dfl_loss  Instances       Size\n"
          ]
        },
        {
          "output_type": "stream",
          "name": "stderr",
          "text": [
            "      10/50      3.53G      1.048      1.545      1.312         24        640: 100%|██████████| 358/358 [01:33<00:00,  3.84it/s]\n",
            "                 Class     Images  Instances      Box(P          R      mAP50  mAP50-95): 100%|██████████| 182/182 [00:42<00:00,  4.28it/s]\n"
          ]
        },
        {
          "output_type": "stream",
          "name": "stdout",
          "text": [
            "                   all       5823      15787      0.672      0.552      0.607      0.413\n",
            "\n",
            "      Epoch    GPU_mem   box_loss   cls_loss   dfl_loss  Instances       Size\n"
          ]
        },
        {
          "output_type": "stream",
          "name": "stderr",
          "text": [
            "      11/50      3.54G      1.041      1.495      1.308         32        640: 100%|██████████| 358/358 [01:35<00:00,  3.73it/s]\n",
            "                 Class     Images  Instances      Box(P          R      mAP50  mAP50-95): 100%|██████████| 182/182 [00:42<00:00,  4.30it/s]\n"
          ]
        },
        {
          "output_type": "stream",
          "name": "stdout",
          "text": [
            "                   all       5823      15787      0.694      0.566      0.633      0.433\n",
            "\n",
            "      Epoch    GPU_mem   box_loss   cls_loss   dfl_loss  Instances       Size\n"
          ]
        },
        {
          "output_type": "stream",
          "name": "stderr",
          "text": [
            "      12/50      3.56G      1.029      1.475      1.303         17        640: 100%|██████████| 358/358 [01:35<00:00,  3.76it/s]\n",
            "                 Class     Images  Instances      Box(P          R      mAP50  mAP50-95): 100%|██████████| 182/182 [00:43<00:00,  4.20it/s]\n"
          ]
        },
        {
          "output_type": "stream",
          "name": "stdout",
          "text": [
            "                   all       5823      15787      0.698      0.568      0.636      0.433\n",
            "\n",
            "      Epoch    GPU_mem   box_loss   cls_loss   dfl_loss  Instances       Size\n"
          ]
        },
        {
          "output_type": "stream",
          "name": "stderr",
          "text": [
            "      13/50      3.57G      1.026      1.429      1.289         41        640: 100%|██████████| 358/358 [01:32<00:00,  3.87it/s]\n",
            "                 Class     Images  Instances      Box(P          R      mAP50  mAP50-95): 100%|██████████| 182/182 [00:43<00:00,  4.20it/s]\n"
          ]
        },
        {
          "output_type": "stream",
          "name": "stdout",
          "text": [
            "                   all       5823      15787      0.704      0.578       0.64      0.434\n",
            "\n",
            "      Epoch    GPU_mem   box_loss   cls_loss   dfl_loss  Instances       Size\n"
          ]
        },
        {
          "output_type": "stream",
          "name": "stderr",
          "text": [
            "      14/50      3.59G      1.012      1.405      1.289         24        640: 100%|██████████| 358/358 [01:33<00:00,  3.81it/s]\n",
            "                 Class     Images  Instances      Box(P          R      mAP50  mAP50-95): 100%|██████████| 182/182 [00:42<00:00,  4.24it/s]\n"
          ]
        },
        {
          "output_type": "stream",
          "name": "stdout",
          "text": [
            "                   all       5823      15787      0.706      0.573      0.638      0.437\n",
            "\n",
            "      Epoch    GPU_mem   box_loss   cls_loss   dfl_loss  Instances       Size\n"
          ]
        },
        {
          "output_type": "stream",
          "name": "stderr",
          "text": [
            "      15/50       3.6G      1.015      1.382      1.286         25        640: 100%|██████████| 358/358 [01:34<00:00,  3.79it/s]\n",
            "                 Class     Images  Instances      Box(P          R      mAP50  mAP50-95): 100%|██████████| 182/182 [00:42<00:00,  4.29it/s]\n"
          ]
        },
        {
          "output_type": "stream",
          "name": "stdout",
          "text": [
            "                   all       5823      15787      0.703      0.576      0.638      0.435\n",
            "\n",
            "      Epoch    GPU_mem   box_loss   cls_loss   dfl_loss  Instances       Size\n"
          ]
        },
        {
          "output_type": "stream",
          "name": "stderr",
          "text": [
            "      16/50      3.62G      1.002      1.358      1.277         22        640: 100%|██████████| 358/358 [01:31<00:00,  3.89it/s]\n",
            "                 Class     Images  Instances      Box(P          R      mAP50  mAP50-95): 100%|██████████| 182/182 [00:42<00:00,  4.24it/s]\n"
          ]
        },
        {
          "output_type": "stream",
          "name": "stdout",
          "text": [
            "                   all       5823      15787      0.709      0.587      0.649      0.448\n",
            "\n",
            "      Epoch    GPU_mem   box_loss   cls_loss   dfl_loss  Instances       Size\n"
          ]
        },
        {
          "output_type": "stream",
          "name": "stderr",
          "text": [
            "      17/50      3.64G     0.9896      1.323      1.265         25        640: 100%|██████████| 358/358 [01:33<00:00,  3.83it/s]\n",
            "                 Class     Images  Instances      Box(P          R      mAP50  mAP50-95): 100%|██████████| 182/182 [00:44<00:00,  4.12it/s]\n"
          ]
        },
        {
          "output_type": "stream",
          "name": "stdout",
          "text": [
            "                   all       5823      15787      0.717      0.595      0.658      0.455\n",
            "\n",
            "      Epoch    GPU_mem   box_loss   cls_loss   dfl_loss  Instances       Size\n"
          ]
        },
        {
          "output_type": "stream",
          "name": "stderr",
          "text": [
            "      18/50      3.65G     0.9837      1.309      1.265         24        640: 100%|██████████| 358/358 [01:32<00:00,  3.87it/s]\n",
            "                 Class     Images  Instances      Box(P          R      mAP50  mAP50-95): 100%|██████████| 182/182 [00:43<00:00,  4.21it/s]\n"
          ]
        },
        {
          "output_type": "stream",
          "name": "stdout",
          "text": [
            "                   all       5823      15787      0.734      0.582      0.652      0.448\n",
            "\n",
            "      Epoch    GPU_mem   box_loss   cls_loss   dfl_loss  Instances       Size\n"
          ]
        },
        {
          "output_type": "stream",
          "name": "stderr",
          "text": [
            "      19/50      3.67G     0.9659      1.275      1.253         40        640: 100%|██████████| 358/358 [01:33<00:00,  3.83it/s]\n",
            "                 Class     Images  Instances      Box(P          R      mAP50  mAP50-95): 100%|██████████| 182/182 [00:43<00:00,  4.19it/s]\n"
          ]
        },
        {
          "output_type": "stream",
          "name": "stdout",
          "text": [
            "                   all       5823      15787      0.712      0.586      0.651       0.45\n",
            "\n",
            "      Epoch    GPU_mem   box_loss   cls_loss   dfl_loss  Instances       Size\n"
          ]
        },
        {
          "output_type": "stream",
          "name": "stderr",
          "text": [
            "      20/50      3.69G     0.9791      1.268      1.259         45        640: 100%|██████████| 358/358 [01:34<00:00,  3.79it/s]\n",
            "                 Class     Images  Instances      Box(P          R      mAP50  mAP50-95): 100%|██████████| 182/182 [00:42<00:00,  4.33it/s]\n"
          ]
        },
        {
          "output_type": "stream",
          "name": "stdout",
          "text": [
            "                   all       5823      15787      0.719      0.599      0.663      0.463\n",
            "\n",
            "      Epoch    GPU_mem   box_loss   cls_loss   dfl_loss  Instances       Size\n"
          ]
        },
        {
          "output_type": "stream",
          "name": "stderr",
          "text": [
            "      21/50      3.71G      0.967      1.255      1.259         35        640: 100%|██████████| 358/358 [01:33<00:00,  3.82it/s]\n",
            "                 Class     Images  Instances      Box(P          R      mAP50  mAP50-95): 100%|██████████| 182/182 [00:42<00:00,  4.30it/s]\n"
          ]
        },
        {
          "output_type": "stream",
          "name": "stdout",
          "text": [
            "                   all       5823      15787      0.721      0.596      0.658      0.456\n",
            "\n",
            "      Epoch    GPU_mem   box_loss   cls_loss   dfl_loss  Instances       Size\n"
          ]
        },
        {
          "output_type": "stream",
          "name": "stderr",
          "text": [
            "      22/50      3.72G     0.9556      1.228      1.243         16        640: 100%|██████████| 358/358 [01:34<00:00,  3.80it/s]\n",
            "                 Class     Images  Instances      Box(P          R      mAP50  mAP50-95): 100%|██████████| 182/182 [00:42<00:00,  4.27it/s]\n"
          ]
        },
        {
          "output_type": "stream",
          "name": "stdout",
          "text": [
            "                   all       5823      15787      0.727      0.607       0.67      0.474\n",
            "\n",
            "      Epoch    GPU_mem   box_loss   cls_loss   dfl_loss  Instances       Size\n"
          ]
        },
        {
          "output_type": "stream",
          "name": "stderr",
          "text": [
            "      23/50      3.73G     0.9407      1.184      1.235         27        640: 100%|██████████| 358/358 [01:33<00:00,  3.84it/s]\n",
            "                 Class     Images  Instances      Box(P          R      mAP50  mAP50-95): 100%|██████████| 182/182 [00:41<00:00,  4.39it/s]\n"
          ]
        },
        {
          "output_type": "stream",
          "name": "stdout",
          "text": [
            "                   all       5823      15787      0.738      0.606      0.675      0.472\n",
            "\n",
            "      Epoch    GPU_mem   box_loss   cls_loss   dfl_loss  Instances       Size\n"
          ]
        },
        {
          "output_type": "stream",
          "name": "stderr",
          "text": [
            "      24/50      3.76G     0.9393       1.19      1.236         21        640: 100%|██████████| 358/358 [01:33<00:00,  3.83it/s]\n",
            "                 Class     Images  Instances      Box(P          R      mAP50  mAP50-95): 100%|██████████| 182/182 [00:42<00:00,  4.26it/s]\n"
          ]
        },
        {
          "output_type": "stream",
          "name": "stdout",
          "text": [
            "                   all       5823      15787      0.732      0.603      0.666      0.472\n",
            "\n",
            "      Epoch    GPU_mem   box_loss   cls_loss   dfl_loss  Instances       Size\n"
          ]
        },
        {
          "output_type": "stream",
          "name": "stderr",
          "text": [
            "      25/50      3.77G     0.9337      1.162      1.226         33        640: 100%|██████████| 358/358 [01:32<00:00,  3.89it/s]\n",
            "                 Class     Images  Instances      Box(P          R      mAP50  mAP50-95): 100%|██████████| 182/182 [00:43<00:00,  4.15it/s]\n"
          ]
        },
        {
          "output_type": "stream",
          "name": "stdout",
          "text": [
            "                   all       5823      15787      0.739       0.61      0.677      0.477\n",
            "\n",
            "      Epoch    GPU_mem   box_loss   cls_loss   dfl_loss  Instances       Size\n"
          ]
        },
        {
          "output_type": "stream",
          "name": "stderr",
          "text": [
            "      26/50      3.79G     0.9339      1.158      1.227         45        640: 100%|██████████| 358/358 [01:32<00:00,  3.88it/s]\n",
            "                 Class     Images  Instances      Box(P          R      mAP50  mAP50-95): 100%|██████████| 182/182 [00:42<00:00,  4.28it/s]\n"
          ]
        },
        {
          "output_type": "stream",
          "name": "stdout",
          "text": [
            "                   all       5823      15787      0.748      0.618      0.684      0.488\n",
            "\n",
            "      Epoch    GPU_mem   box_loss   cls_loss   dfl_loss  Instances       Size\n"
          ]
        },
        {
          "output_type": "stream",
          "name": "stderr",
          "text": [
            "      27/50       3.8G     0.9193      1.142       1.22         35        640: 100%|██████████| 358/358 [01:32<00:00,  3.86it/s]\n",
            "                 Class     Images  Instances      Box(P          R      mAP50  mAP50-95): 100%|██████████| 182/182 [00:41<00:00,  4.37it/s]\n"
          ]
        },
        {
          "output_type": "stream",
          "name": "stdout",
          "text": [
            "                   all       5823      15787      0.738      0.619      0.681      0.485\n",
            "\n",
            "      Epoch    GPU_mem   box_loss   cls_loss   dfl_loss  Instances       Size\n"
          ]
        },
        {
          "output_type": "stream",
          "name": "stderr",
          "text": [
            "      28/50      3.82G     0.9132       1.13       1.22         47        640: 100%|██████████| 358/358 [01:31<00:00,  3.93it/s]\n",
            "                 Class     Images  Instances      Box(P          R      mAP50  mAP50-95): 100%|██████████| 182/182 [00:43<00:00,  4.20it/s]\n"
          ]
        },
        {
          "output_type": "stream",
          "name": "stdout",
          "text": [
            "                   all       5823      15787      0.746      0.608      0.684      0.484\n",
            "\n",
            "      Epoch    GPU_mem   box_loss   cls_loss   dfl_loss  Instances       Size\n"
          ]
        },
        {
          "output_type": "stream",
          "name": "stderr",
          "text": [
            "      29/50      3.84G     0.9128      1.119      1.216         13        640: 100%|██████████| 358/358 [01:31<00:00,  3.93it/s]\n",
            "                 Class     Images  Instances      Box(P          R      mAP50  mAP50-95): 100%|██████████| 182/182 [00:42<00:00,  4.31it/s]\n"
          ]
        },
        {
          "output_type": "stream",
          "name": "stdout",
          "text": [
            "                   all       5823      15787      0.765      0.619      0.692      0.492\n",
            "\n",
            "      Epoch    GPU_mem   box_loss   cls_loss   dfl_loss  Instances       Size\n"
          ]
        },
        {
          "output_type": "stream",
          "name": "stderr",
          "text": [
            "      30/50      3.86G     0.9045       1.09      1.209         19        640: 100%|██████████| 358/358 [01:31<00:00,  3.91it/s]\n",
            "                 Class     Images  Instances      Box(P          R      mAP50  mAP50-95): 100%|██████████| 182/182 [00:41<00:00,  4.34it/s]\n"
          ]
        },
        {
          "output_type": "stream",
          "name": "stdout",
          "text": [
            "                   all       5823      15787      0.751      0.617      0.687      0.492\n",
            "\n",
            "      Epoch    GPU_mem   box_loss   cls_loss   dfl_loss  Instances       Size\n"
          ]
        },
        {
          "output_type": "stream",
          "name": "stderr",
          "text": [
            "      31/50      3.87G     0.8984      1.072        1.2         20        640: 100%|██████████| 358/358 [01:33<00:00,  3.84it/s]\n",
            "                 Class     Images  Instances      Box(P          R      mAP50  mAP50-95): 100%|██████████| 182/182 [00:41<00:00,  4.40it/s]\n"
          ]
        },
        {
          "output_type": "stream",
          "name": "stdout",
          "text": [
            "                   all       5823      15787       0.76      0.614      0.693      0.495\n",
            "\n",
            "      Epoch    GPU_mem   box_loss   cls_loss   dfl_loss  Instances       Size\n"
          ]
        },
        {
          "output_type": "stream",
          "name": "stderr",
          "text": [
            "      32/50      3.89G     0.8984      1.072      1.201         46        640: 100%|██████████| 358/358 [01:30<00:00,  3.96it/s]\n",
            "                 Class     Images  Instances      Box(P          R      mAP50  mAP50-95): 100%|██████████| 182/182 [00:43<00:00,  4.15it/s]\n"
          ]
        },
        {
          "output_type": "stream",
          "name": "stdout",
          "text": [
            "                   all       5823      15787      0.772      0.611      0.693      0.498\n",
            "\n",
            "      Epoch    GPU_mem   box_loss   cls_loss   dfl_loss  Instances       Size\n"
          ]
        },
        {
          "output_type": "stream",
          "name": "stderr",
          "text": [
            "      33/50       3.9G     0.8882      1.049      1.195         43        640: 100%|██████████| 358/358 [01:31<00:00,  3.92it/s]\n",
            "                 Class     Images  Instances      Box(P          R      mAP50  mAP50-95): 100%|██████████| 182/182 [00:42<00:00,  4.26it/s]\n"
          ]
        },
        {
          "output_type": "stream",
          "name": "stdout",
          "text": [
            "                   all       5823      15787      0.775      0.621      0.699      0.501\n",
            "\n",
            "      Epoch    GPU_mem   box_loss   cls_loss   dfl_loss  Instances       Size\n"
          ]
        },
        {
          "output_type": "stream",
          "name": "stderr",
          "text": [
            "      34/50      3.92G     0.8864      1.046      1.191         40        640: 100%|██████████| 358/358 [01:32<00:00,  3.87it/s]\n",
            "                 Class     Images  Instances      Box(P          R      mAP50  mAP50-95): 100%|██████████| 182/182 [00:41<00:00,  4.38it/s]\n"
          ]
        },
        {
          "output_type": "stream",
          "name": "stdout",
          "text": [
            "                   all       5823      15787      0.747       0.63      0.697      0.499\n",
            "\n",
            "      Epoch    GPU_mem   box_loss   cls_loss   dfl_loss  Instances       Size\n"
          ]
        },
        {
          "output_type": "stream",
          "name": "stderr",
          "text": [
            "      35/50      3.94G     0.8837      1.025      1.186         31        640: 100%|██████████| 358/358 [01:31<00:00,  3.90it/s]\n",
            "                 Class     Images  Instances      Box(P          R      mAP50  mAP50-95): 100%|██████████| 182/182 [00:43<00:00,  4.21it/s]\n"
          ]
        },
        {
          "output_type": "stream",
          "name": "stdout",
          "text": [
            "                   all       5823      15787      0.768       0.62      0.699      0.502\n",
            "\n",
            "      Epoch    GPU_mem   box_loss   cls_loss   dfl_loss  Instances       Size\n"
          ]
        },
        {
          "output_type": "stream",
          "name": "stderr",
          "text": [
            "      36/50      3.96G     0.8627      1.012       1.18         36        640: 100%|██████████| 358/358 [01:30<00:00,  3.94it/s]\n",
            "                 Class     Images  Instances      Box(P          R      mAP50  mAP50-95): 100%|██████████| 182/182 [00:43<00:00,  4.22it/s]\n"
          ]
        },
        {
          "output_type": "stream",
          "name": "stdout",
          "text": [
            "                   all       5823      15787      0.759      0.624      0.699      0.504\n",
            "\n",
            "      Epoch    GPU_mem   box_loss   cls_loss   dfl_loss  Instances       Size\n"
          ]
        },
        {
          "output_type": "stream",
          "name": "stderr",
          "text": [
            "      37/50      3.97G     0.8741     0.9945      1.179         27        640: 100%|██████████| 358/358 [01:32<00:00,  3.88it/s]\n",
            "                 Class     Images  Instances      Box(P          R      mAP50  mAP50-95): 100%|██████████| 182/182 [00:41<00:00,  4.39it/s]\n"
          ]
        },
        {
          "output_type": "stream",
          "name": "stdout",
          "text": [
            "                   all       5823      15787       0.78      0.623      0.705      0.507\n",
            "\n",
            "      Epoch    GPU_mem   box_loss   cls_loss   dfl_loss  Instances       Size\n"
          ]
        },
        {
          "output_type": "stream",
          "name": "stderr",
          "text": [
            "      38/50      3.99G     0.8579     0.9851       1.18         18        640: 100%|██████████| 358/358 [01:31<00:00,  3.91it/s]\n",
            "                 Class     Images  Instances      Box(P          R      mAP50  mAP50-95): 100%|██████████| 182/182 [00:41<00:00,  4.42it/s]\n"
          ]
        },
        {
          "output_type": "stream",
          "name": "stdout",
          "text": [
            "                   all       5823      15787      0.775      0.626      0.704      0.505\n",
            "\n",
            "      Epoch    GPU_mem   box_loss   cls_loss   dfl_loss  Instances       Size\n"
          ]
        },
        {
          "output_type": "stream",
          "name": "stderr",
          "text": [
            "      39/50      4.01G     0.8541     0.9696      1.171         43        640: 100%|██████████| 358/358 [01:30<00:00,  3.94it/s]\n",
            "                 Class     Images  Instances      Box(P          R      mAP50  mAP50-95): 100%|██████████| 182/182 [00:43<00:00,  4.21it/s]\n"
          ]
        },
        {
          "output_type": "stream",
          "name": "stdout",
          "text": [
            "                   all       5823      15787      0.765      0.633      0.706       0.51\n",
            "\n",
            "      Epoch    GPU_mem   box_loss   cls_loss   dfl_loss  Instances       Size\n"
          ]
        },
        {
          "output_type": "stream",
          "name": "stderr",
          "text": [
            "      40/50      4.02G     0.8491     0.9627      1.167         25        640: 100%|██████████| 358/358 [01:31<00:00,  3.90it/s]\n",
            "                 Class     Images  Instances      Box(P          R      mAP50  mAP50-95): 100%|██████████| 182/182 [00:42<00:00,  4.30it/s]\n"
          ]
        },
        {
          "output_type": "stream",
          "name": "stdout",
          "text": [
            "                   all       5823      15787       0.77      0.635      0.709      0.513\n",
            "Closing dataloader mosaic\n",
            "\u001b[34m\u001b[1malbumentations: \u001b[0mBlur(p=0.01, blur_limit=(3, 7)), MedianBlur(p=0.01, blur_limit=(3, 7)), ToGray(p=0.01, method='weighted_average', num_output_channels=3), CLAHE(p=0.01, clip_limit=(1.0, 4.0), tile_grid_size=(8, 8))\n",
            "\n",
            "      Epoch    GPU_mem   box_loss   cls_loss   dfl_loss  Instances       Size\n"
          ]
        },
        {
          "output_type": "stream",
          "name": "stderr",
          "text": [
            "      41/50      4.04G     0.8279     0.8541      1.152          9        640: 100%|██████████| 358/358 [01:31<00:00,  3.93it/s]\n",
            "                 Class     Images  Instances      Box(P          R      mAP50  mAP50-95): 100%|██████████| 182/182 [00:42<00:00,  4.28it/s]\n"
          ]
        },
        {
          "output_type": "stream",
          "name": "stdout",
          "text": [
            "                   all       5823      15787      0.756      0.627      0.699      0.503\n",
            "\n",
            "      Epoch    GPU_mem   box_loss   cls_loss   dfl_loss  Instances       Size\n"
          ]
        },
        {
          "output_type": "stream",
          "name": "stderr",
          "text": [
            "      42/50      4.06G     0.8088     0.7936       1.13         16        640: 100%|██████████| 358/358 [01:26<00:00,  4.12it/s]\n",
            "                 Class     Images  Instances      Box(P          R      mAP50  mAP50-95): 100%|██████████| 182/182 [00:42<00:00,  4.25it/s]\n"
          ]
        },
        {
          "output_type": "stream",
          "name": "stdout",
          "text": [
            "                   all       5823      15787      0.771      0.629      0.702      0.507\n",
            "\n",
            "      Epoch    GPU_mem   box_loss   cls_loss   dfl_loss  Instances       Size\n"
          ]
        },
        {
          "output_type": "stream",
          "name": "stderr",
          "text": [
            "      43/50      4.08G     0.7998     0.7772      1.125         16        640: 100%|██████████| 358/358 [01:27<00:00,  4.08it/s]\n",
            "                 Class     Images  Instances      Box(P          R      mAP50  mAP50-95): 100%|██████████| 182/182 [00:42<00:00,  4.28it/s]\n"
          ]
        },
        {
          "output_type": "stream",
          "name": "stdout",
          "text": [
            "                   all       5823      15787      0.759      0.635      0.702      0.507\n",
            "\n",
            "      Epoch    GPU_mem   box_loss   cls_loss   dfl_loss  Instances       Size\n"
          ]
        },
        {
          "output_type": "stream",
          "name": "stderr",
          "text": [
            "      44/50      4.09G     0.7913      0.759      1.119         20        640: 100%|██████████| 358/358 [01:28<00:00,  4.04it/s]\n",
            "                 Class     Images  Instances      Box(P          R      mAP50  mAP50-95): 100%|██████████| 182/182 [00:43<00:00,  4.23it/s]\n"
          ]
        },
        {
          "output_type": "stream",
          "name": "stdout",
          "text": [
            "                   all       5823      15787      0.782      0.626      0.703      0.507\n",
            "\n",
            "      Epoch    GPU_mem   box_loss   cls_loss   dfl_loss  Instances       Size\n"
          ]
        },
        {
          "output_type": "stream",
          "name": "stderr",
          "text": [
            "      45/50      4.11G      0.787     0.7422      1.117         15        640: 100%|██████████| 358/358 [01:28<00:00,  4.03it/s]\n",
            "                 Class     Images  Instances      Box(P          R      mAP50  mAP50-95): 100%|██████████| 182/182 [00:41<00:00,  4.39it/s]\n"
          ]
        },
        {
          "output_type": "stream",
          "name": "stdout",
          "text": [
            "                   all       5823      15787       0.77      0.637      0.706       0.51\n",
            "\n",
            "      Epoch    GPU_mem   box_loss   cls_loss   dfl_loss  Instances       Size\n"
          ]
        },
        {
          "output_type": "stream",
          "name": "stderr",
          "text": [
            "      46/50      4.12G     0.7764     0.7381      1.109         10        640: 100%|██████████| 358/358 [01:26<00:00,  4.13it/s]\n",
            "                 Class     Images  Instances      Box(P          R      mAP50  mAP50-95): 100%|██████████| 182/182 [00:44<00:00,  4.12it/s]\n"
          ]
        },
        {
          "output_type": "stream",
          "name": "stdout",
          "text": [
            "                   all       5823      15787       0.76      0.646      0.707      0.514\n",
            "\n",
            "      Epoch    GPU_mem   box_loss   cls_loss   dfl_loss  Instances       Size\n"
          ]
        },
        {
          "output_type": "stream",
          "name": "stderr",
          "text": [
            "      47/50      4.14G     0.7695     0.7173      1.104         16        640: 100%|██████████| 358/358 [01:28<00:00,  4.06it/s]\n",
            "                 Class     Images  Instances      Box(P          R      mAP50  mAP50-95): 100%|██████████| 182/182 [00:42<00:00,  4.25it/s]\n"
          ]
        },
        {
          "output_type": "stream",
          "name": "stdout",
          "text": [
            "                   all       5823      15787      0.755      0.648      0.709      0.514\n",
            "\n",
            "      Epoch    GPU_mem   box_loss   cls_loss   dfl_loss  Instances       Size\n"
          ]
        },
        {
          "output_type": "stream",
          "name": "stderr",
          "text": [
            "      48/50      4.16G     0.7649     0.7064      1.099          7        640: 100%|██████████| 358/358 [01:28<00:00,  4.03it/s]\n",
            "                 Class     Images  Instances      Box(P          R      mAP50  mAP50-95): 100%|██████████| 182/182 [00:43<00:00,  4.20it/s]\n"
          ]
        },
        {
          "output_type": "stream",
          "name": "stdout",
          "text": [
            "                   all       5823      15787      0.767      0.639      0.711      0.515\n",
            "\n",
            "      Epoch    GPU_mem   box_loss   cls_loss   dfl_loss  Instances       Size\n"
          ]
        },
        {
          "output_type": "stream",
          "name": "stderr",
          "text": [
            "      49/50      4.17G     0.7526     0.7019       1.09         14        640: 100%|██████████| 358/358 [01:29<00:00,  4.01it/s]\n",
            "                 Class     Images  Instances      Box(P          R      mAP50  mAP50-95): 100%|██████████| 182/182 [00:41<00:00,  4.42it/s]\n"
          ]
        },
        {
          "output_type": "stream",
          "name": "stdout",
          "text": [
            "                   all       5823      15787      0.769      0.642      0.711      0.517\n",
            "\n",
            "      Epoch    GPU_mem   box_loss   cls_loss   dfl_loss  Instances       Size\n"
          ]
        },
        {
          "output_type": "stream",
          "name": "stderr",
          "text": [
            "      50/50      4.19G     0.7503     0.6912      1.093          7        640: 100%|██████████| 358/358 [01:27<00:00,  4.10it/s]\n",
            "                 Class     Images  Instances      Box(P          R      mAP50  mAP50-95): 100%|██████████| 182/182 [00:43<00:00,  4.21it/s]\n"
          ]
        },
        {
          "output_type": "stream",
          "name": "stdout",
          "text": [
            "                   all       5823      15787      0.773      0.638      0.711      0.517\n",
            "\n",
            "50 epochs completed in 1.884 hours.\n",
            "Optimizer stripped from runs/detect/yolo_pascal_voc/weights/last.pt, 6.2MB\n",
            "Optimizer stripped from runs/detect/yolo_pascal_voc/weights/best.pt, 6.2MB\n",
            "\n",
            "Validating runs/detect/yolo_pascal_voc/weights/best.pt...\n",
            "Ultralytics 8.3.146 🚀 Python-3.11.12 torch-2.6.0+cu124 CUDA:0 (Tesla T4, 15095MiB)\n",
            "Model summary (fused): 72 layers, 3,009,548 parameters, 0 gradients, 8.1 GFLOPs\n"
          ]
        },
        {
          "output_type": "stream",
          "name": "stderr",
          "text": [
            "                 Class     Images  Instances      Box(P          R      mAP50  mAP50-95): 100%|██████████| 182/182 [00:45<00:00,  3.96it/s]\n"
          ]
        },
        {
          "output_type": "stream",
          "name": "stdout",
          "text": [
            "                   all       5823      15787      0.774      0.638      0.711      0.518\n",
            "             aeroplane        348        484      0.856      0.717      0.784      0.596\n",
            "               bicycle        290        380       0.84      0.692      0.766      0.569\n",
            "                  bird        374        629      0.806      0.574      0.669       0.46\n",
            "                  boat        252        491      0.673      0.473      0.536      0.328\n",
            "                bottle        369        733      0.742      0.462      0.557      0.374\n",
            "                   bus        211        320      0.863      0.741      0.815      0.681\n",
            "                   car        608       1173      0.833      0.634      0.749      0.543\n",
            "                   cat        544        618      0.811      0.806      0.861      0.672\n",
            "                 chair        642       1449      0.687      0.459      0.551      0.376\n",
            "                   cow        154        347      0.686      0.657      0.666      0.474\n",
            "           diningtable        323        374      0.735      0.545      0.621      0.431\n",
            "                   dog        661        773      0.771      0.734      0.801       0.61\n",
            "                 horse        245        373      0.789      0.729      0.796      0.613\n",
            "             motorbike        262        376      0.844      0.718      0.802      0.583\n",
            "                person       2232       5110      0.855      0.742      0.834      0.579\n",
            "           pottedplant        279        542      0.617      0.445      0.497      0.289\n",
            "                 sheep        155        485       0.75      0.669      0.721      0.544\n",
            "                  sofa        336        387      0.639      0.599      0.654      0.486\n",
            "                 train        275        329      0.865      0.754      0.838      0.642\n",
            "             tvmonitor        296        414      0.819      0.601      0.696      0.502\n",
            "Speed: 0.2ms preprocess, 1.8ms inference, 0.0ms loss, 1.5ms postprocess per image\n",
            "Results saved to \u001b[1mruns/detect/yolo_pascal_voc\u001b[0m\n",
            "\n",
            "Performing model validation...\n",
            "Ultralytics 8.3.146 🚀 Python-3.11.12 torch-2.6.0+cu124 CUDA:0 (Tesla T4, 15095MiB)\n",
            "Model summary (fused): 72 layers, 3,009,548 parameters, 0 gradients, 8.1 GFLOPs\n",
            "\u001b[34m\u001b[1mval: \u001b[0mFast image access ✅ (ping: 0.0±0.0 ms, read: 1701.4±805.6 MB/s, size: 39.6 KB)\n"
          ]
        },
        {
          "output_type": "stream",
          "name": "stderr",
          "text": [
            "\u001b[34m\u001b[1mval: \u001b[0mScanning /content/data/VOC/val/labels.cache... 5823 images, 0 backgrounds, 0 corrupt: 100%|██████████| 5823/5823 [00:00<?, ?it/s]\n",
            "                 Class     Images  Instances      Box(P          R      mAP50  mAP50-95): 100%|██████████| 364/364 [00:51<00:00,  7.11it/s]\n"
          ]
        },
        {
          "output_type": "stream",
          "name": "stdout",
          "text": [
            "                   all       5823      15787      0.773      0.638      0.711      0.518\n",
            "             aeroplane        348        484      0.857      0.717      0.784      0.596\n",
            "               bicycle        290        380      0.846      0.694      0.767       0.57\n",
            "                  bird        374        629      0.803      0.571      0.666      0.458\n",
            "                  boat        252        491      0.665      0.472      0.537      0.327\n",
            "                bottle        369        733      0.743      0.462      0.557      0.375\n",
            "                   bus        211        320      0.864      0.741      0.818      0.682\n",
            "                   car        608       1173      0.829      0.633      0.749      0.543\n",
            "                   cat        544        618       0.81      0.806      0.861      0.673\n",
            "                 chair        642       1449      0.687      0.464      0.554      0.376\n",
            "                   cow        154        347       0.69       0.66      0.665      0.472\n",
            "           diningtable        323        374      0.734      0.548      0.622      0.431\n",
            "                   dog        661        773      0.768      0.735      0.802      0.611\n",
            "                 horse        245        373      0.787      0.732      0.796      0.613\n",
            "             motorbike        262        376      0.839      0.715      0.802      0.584\n",
            "                person       2232       5110      0.853      0.743      0.834      0.579\n",
            "           pottedplant        279        542      0.616      0.443      0.497      0.289\n",
            "                 sheep        155        485      0.754       0.67      0.721      0.544\n",
            "                  sofa        336        387      0.638      0.607      0.655      0.486\n",
            "                 train        275        329      0.861      0.754      0.838      0.642\n",
            "             tvmonitor        296        414      0.815      0.599      0.692      0.502\n",
            "Speed: 0.2ms preprocess, 2.8ms inference, 0.0ms loss, 1.4ms postprocess per image\n",
            "Results saved to \u001b[1mruns/detect/yolo_pascal_voc2\u001b[0m\n",
            "\n",
            "Computing comprehensive accuracy metrics...\n",
            "Computing evaluation metrics using 300 samples...\n",
            "\n",
            "=======================================================\n",
            "TRAINING RESULTS SUMMARY\n",
            "=======================================================\n",
            "mAP@0.5:                 0.7109\n",
            "mAP@0.5:0.95:            0.5176\n",
            "Detection Accuracy:      0.5617\n",
            "Classification Accuracy: 0.8133\n",
            "Precision:               0.8133\n",
            "Recall:                  0.6448\n",
            "F1 Score:                0.7193\n",
            "Mean IoU:                0.8704\n",
            "=======================================================\n"
          ]
        },
        {
          "output_type": "display_data",
          "data": {
            "text/plain": [
              "<Figure size 1200x800 with 4 Axes>"
            ],
            "image/png": "[encoded data removed]"
          },
          "metadata": {}
        },
        {
          "output_type": "stream",
          "name": "stdout",
          "text": [
            "\n",
            "Trained model saved as 'trained_yolo_pascal_voc.pt'\n"
          ]
        }
      ],
      "source": [
        "!pip install ultralytics matplotlib pandas\n",
        "\n",
        "\"\"\"\n",
        "Enhanced YOLOv8 Object Detection Training Pipeline\n",
        "Comprehensive evaluation with IoU, mAP, Precision, Recall, F1-Score, and Accuracy metrics\n",
        "\"\"\"\n",
        "\n",
        "import torch\n",
        "import os\n",
        "import yaml\n",
        "import matplotlib.pyplot as plt\n",
        "import pandas as pd\n",
        "import numpy as np\n",
        "from ultralytics import YOLO\n",
        "from torchvision.datasets import VOCDetection\n",
        "\n",
        "# Device configuration\n",
        "device = \"cuda\" if torch.cuda.is_available() else \"cpu\"\n",
        "print(f\"Training device: {device}\")\n",
        "\n",
        "# Pascal VOC dataset class definitions\n",
        "PASCAL_VOC_CLASSES = [\n",
        "    'aeroplane', 'bicycle', 'bird', 'boat', 'bottle', 'bus', 'car',\n",
        "    'cat', 'chair', 'cow', 'diningtable', 'dog', 'horse', 'motorbike',\n",
        "    'person', 'pottedplant', 'sheep', 'sofa', 'train', 'tvmonitor'\n",
        "]\n",
        "\n",
        "def prepare_pascal_voc_data():\n",
        "    \"\"\"Prepare Pascal VOC dataset in YOLO format\"\"\"\n",
        "    print(\"Preparing Pascal VOC dataset for YOLO training...\")\n",
        "\n",
        "    # Initialize directory structure\n",
        "    dataset_splits = ['train', 'val']\n",
        "    for split in dataset_splits:\n",
        "        os.makedirs(f\"data/VOC/{split}/images\", exist_ok=True)\n",
        "        os.makedirs(f\"data/VOC/{split}/labels\", exist_ok=True)\n",
        "\n",
        "    # Load Pascal VOC datasets\n",
        "    training_data = VOCDetection(root='./data', year='2012', image_set='train', download=True)\n",
        "    validation_data = VOCDetection(root='./data', year='2012', image_set='val', download=True)\n",
        "\n",
        "    # Process datasets\n",
        "    dataset_pairs = [(training_data, 'train'), (validation_data, 'val')]\n",
        "    for dataset, split_name in dataset_pairs:\n",
        "        print(f\"Processing {split_name} split...\")\n",
        "        transform_voc_to_yolo(dataset, split_name)\n",
        "\n",
        "    # Generate configuration file\n",
        "    config_data = {\n",
        "        'train': os.path.abspath('data/VOC/train'),\n",
        "        'val': os.path.abspath('data/VOC/val'),\n",
        "        'nc': 20,\n",
        "        'names': PASCAL_VOC_CLASSES\n",
        "    }\n",
        "\n",
        "    with open('pascal_voc.yaml', 'w') as config_file:\n",
        "        yaml.dump(config_data, config_file)\n",
        "\n",
        "    print(f\"Dataset preparation complete: {len(training_data)} training samples, {len(validation_data)} validation samples\")\n",
        "    return validation_data\n",
        "\n",
        "def transform_voc_to_yolo(dataset, split_name):\n",
        "    \"\"\"Transform VOC annotations to YOLO format\"\"\"\n",
        "    target_dir = f'data/VOC/{split_name}'\n",
        "\n",
        "    for sample_idx, (image, annotations) in enumerate(dataset):\n",
        "        # Extract filename and save image\n",
        "        filename = annotations['annotation']['filename'].split('.')[0]\n",
        "        image.save(f\"{target_dir}/images/{filename}.jpg\")\n",
        "\n",
        "        # Process bounding box annotations\n",
        "        img_height, img_width = image.height, image.width\n",
        "        with open(f\"{target_dir}/labels/{filename}.txt\", 'w') as label_file:\n",
        "            if 'object' in annotations['annotation']:\n",
        "                detected_objects = annotations['annotation']['object']\n",
        "                if not isinstance(detected_objects, list):\n",
        "                    detected_objects = [detected_objects]\n",
        "\n",
        "                for obj in detected_objects:\n",
        "                    if obj['name'] in PASCAL_VOC_CLASSES:\n",
        "                        class_id = PASCAL_VOC_CLASSES.index(obj['name'])\n",
        "                        bounding_box = obj['bndbox']\n",
        "\n",
        "                        # Convert to normalized YOLO format\n",
        "                        center_x = (float(bounding_box['xmin']) + float(bounding_box['xmax'])) / (2 * img_width)\n",
        "                        center_y = (float(bounding_box['ymin']) + float(bounding_box['ymax'])) / (2 * img_height)\n",
        "                        box_width = (float(bounding_box['xmax']) - float(bounding_box['xmin'])) / img_width\n",
        "                        box_height = (float(bounding_box['ymax']) - float(bounding_box['ymin'])) / img_height\n",
        "\n",
        "                        label_file.write(f\"{class_id} {center_x} {center_y} {box_width} {box_height}\\n\")\n",
        "\n",
        "        if sample_idx % 1000 == 0:\n",
        "            print(f\"Transformed {sample_idx}/{len(dataset)} samples\")\n",
        "\n",
        "def compute_intersection_over_union(bbox1, bbox2):\n",
        "    \"\"\"Compute Intersection over Union between two bounding boxes\"\"\"\n",
        "    left = max(bbox1[0], bbox2[0])\n",
        "    top = max(bbox1[1], bbox2[1])\n",
        "    right = min(bbox1[2], bbox2[2])\n",
        "    bottom = min(bbox1[3], bbox2[3])\n",
        "\n",
        "    if right <= left or bottom <= top:\n",
        "        return 0.0\n",
        "\n",
        "    intersection_area = (right - left) * (bottom - top)\n",
        "    bbox1_area = (bbox1[2] - bbox1[0]) * (bbox1[3] - bbox1[1])\n",
        "    bbox2_area = (bbox2[2] - bbox2[0]) * (bbox2[3] - bbox2[1])\n",
        "    union_area = bbox1_area + bbox2_area - intersection_area\n",
        "\n",
        "    return intersection_area / union_area if union_area > 0 else 0.0\n",
        "\n",
        "def compute_detection_metrics(model, validation_set, evaluation_samples=200):\n",
        "    \"\"\"Compute comprehensive detection evaluation metrics\"\"\"\n",
        "    print(f\"Computing evaluation metrics using {evaluation_samples} samples...\")\n",
        "\n",
        "    true_positives, false_positives, false_negatives = 0, 0, 0\n",
        "    iou_scores = []\n",
        "    evaluation_indices = np.random.choice(len(validation_set), min(evaluation_samples, len(validation_set)), replace=False)\n",
        "\n",
        "    for idx in evaluation_indices:\n",
        "        image, ground_truth = validation_set[idx]\n",
        "\n",
        "        # Parse ground truth annotations\n",
        "        gt_bboxes, gt_labels = [], []\n",
        "        if 'object' in ground_truth['annotation']:\n",
        "            objects = ground_truth['annotation']['object']\n",
        "            if not isinstance(objects, list):\n",
        "                objects = [objects]\n",
        "\n",
        "            for obj in objects:\n",
        "                if obj['name'] in PASCAL_VOC_CLASSES:\n",
        "                    bbox = obj['bndbox']\n",
        "                    gt_bboxes.append([float(bbox['xmin']), float(bbox['ymin']),\n",
        "                                    float(bbox['xmax']), float(bbox['ymax'])])\n",
        "                    gt_labels.append(PASCAL_VOC_CLASSES.index(obj['name']))\n",
        "\n",
        "        # Get model predictions\n",
        "        predictions = model.predict(image, verbose=False, conf=0.5)\n",
        "        pred_bboxes, pred_labels = [], []\n",
        "\n",
        "        if len(predictions) > 0 and predictions[0].boxes is not None:\n",
        "            pred_bboxes = predictions[0].boxes.xyxy.cpu().numpy()\n",
        "            pred_labels = predictions[0].boxes.cls.cpu().numpy().astype(int)\n",
        "\n",
        "        # Match predictions with ground truth\n",
        "        matched_ground_truth = set()\n",
        "        for pred_bbox, pred_label in zip(pred_bboxes, pred_labels):\n",
        "            highest_iou, matched_gt_idx = 0, -1\n",
        "\n",
        "            for gt_idx, (gt_bbox, gt_label) in enumerate(zip(gt_bboxes, gt_labels)):\n",
        "                if gt_idx in matched_ground_truth or pred_label != gt_label:\n",
        "                    continue\n",
        "\n",
        "                current_iou = compute_intersection_over_union(pred_bbox, gt_bbox)\n",
        "                if current_iou > highest_iou:\n",
        "                    highest_iou, matched_gt_idx = current_iou, gt_idx\n",
        "\n",
        "            if highest_iou > 0.5:  # IoU threshold for positive match\n",
        "                true_positives += 1\n",
        "                iou_scores.append(highest_iou)\n",
        "                matched_ground_truth.add(matched_gt_idx)\n",
        "            else:\n",
        "                false_positives += 1\n",
        "\n",
        "        false_negatives += len(gt_bboxes) - len(matched_ground_truth)\n",
        "\n",
        "    # Compute evaluation metrics\n",
        "    precision_score = true_positives / (true_positives + false_positives) if (true_positives + false_positives) > 0 else 0\n",
        "    recall_score = true_positives / (true_positives + false_negatives) if (true_positives + false_negatives) > 0 else 0\n",
        "    f1_metric = 2 * (precision_score * recall_score) / (precision_score + recall_score) if (precision_score + recall_score) > 0 else 0\n",
        "\n",
        "    # Object detection accuracy\n",
        "    detection_acc = true_positives / (true_positives + false_positives + false_negatives) if (true_positives + false_positives + false_negatives) > 0 else 0\n",
        "\n",
        "    # Classification accuracy for detected objects\n",
        "    classification_acc = true_positives / (true_positives + false_positives) if (true_positives + false_positives) > 0 else 0\n",
        "\n",
        "    average_iou = np.mean(iou_scores) if iou_scores else 0\n",
        "\n",
        "    return {\n",
        "        'detection_accuracy': detection_acc,\n",
        "        'classification_accuracy': classification_acc,\n",
        "        'precision': precision_score,\n",
        "        'recall': recall_score,\n",
        "        'f1_score': f1_metric,\n",
        "        'mean_iou': average_iou,\n",
        "        'total_detections': len(iou_scores)\n",
        "    }\n",
        "\n",
        "def visualize_training_metrics(experiment_name='yolo_pascal_voc'):\n",
        "    \"\"\"Create visualization plots for training metrics\"\"\"\n",
        "    metrics_file = f'runs/detect/{experiment_name}/results.csv'\n",
        "    if not os.path.exists(metrics_file):\n",
        "        print(\"Training metrics file not found!\")\n",
        "        return\n",
        "\n",
        "    metrics_df = pd.read_csv(metrics_file)\n",
        "    metrics_df.columns = metrics_df.columns.str.strip()\n",
        "\n",
        "    figure, subplots = plt.subplots(2, 2, figsize=(12, 8))\n",
        "\n",
        "    # Loss curves\n",
        "    subplots[0,0].plot(metrics_df.get('train/box_loss', []), label='Bounding Box Loss', color='blue')\n",
        "    subplots[0,0].plot(metrics_df.get('train/cls_loss', []), label='Classification Loss', color='red')\n",
        "    subplots[0,0].set_title('Training Loss Curves')\n",
        "    subplots[0,0].legend()\n",
        "    subplots[0,0].grid(True)\n",
        "\n",
        "    # mAP curves\n",
        "    subplots[0,1].plot(metrics_df.get('metrics/mAP50(B)', []), label='mAP@0.5', color='green')\n",
        "    subplots[0,1].plot(metrics_df.get('metrics/mAP50-95(B)', []), label='mAP@0.5:0.95', color='orange')\n",
        "    subplots[0,1].set_title('Mean Average Precision')\n",
        "    subplots[0,1].legend()\n",
        "    subplots[0,1].grid(True)\n",
        "\n",
        "    # Precision and Recall\n",
        "    subplots[1,0].plot(metrics_df.get('metrics/precision(B)', []), label='Precision', color='purple')\n",
        "    subplots[1,0].plot(metrics_df.get('metrics/recall(B)', []), label='Recall', color='brown')\n",
        "    subplots[1,0].set_title('Precision & Recall')\n",
        "    subplots[1,0].legend()\n",
        "    subplots[1,0].grid(True)\n",
        "\n",
        "    # F1 Score calculation and plotting\n",
        "    if 'metrics/precision(B)' in metrics_df.columns and 'metrics/recall(B)' in metrics_df.columns:\n",
        "        precision_vals = metrics_df['metrics/precision(B)']\n",
        "        recall_vals = metrics_df['metrics/recall(B)']\n",
        "        f1_scores = 2 * (precision_vals * recall_vals) / (precision_vals + recall_vals)\n",
        "        f1_scores = f1_scores.fillna(0)\n",
        "        subplots[1,1].plot(f1_scores, label='F1 Score', color='red')\n",
        "    subplots[1,1].set_title('F1 Score')\n",
        "    subplots[1,1].legend()\n",
        "    subplots[1,1].grid(True)\n",
        "\n",
        "    plt.tight_layout()\n",
        "    plt.savefig('yolo_training_results.png', dpi=300, bbox_inches='tight')\n",
        "    plt.show()\n",
        "\n",
        "def execute_training_pipeline():\n",
        "    \"\"\"Execute the complete YOLO training pipeline\"\"\"\n",
        "    print(\"YOLOv8 Object Detection Training Pipeline\")\n",
        "    print(\"=\" * 45)\n",
        "\n",
        "    # Data preparation\n",
        "    validation_dataset = prepare_pascal_voc_data()\n",
        "\n",
        "    # Model initialization and training\n",
        "    print(\"\\nInitializing and training YOLOv8 model...\")\n",
        "    yolo_model = YOLO('yolov8n.pt')\n",
        "\n",
        "    # Training configuration\n",
        "    training_results = yolo_model.train(\n",
        "        data='pascal_voc.yaml',\n",
        "        name='yolo_pascal_voc',\n",
        "        epochs=50,\n",
        "        batch=16,\n",
        "        imgsz=640,\n",
        "        lr0=0.01,\n",
        "        device=device,\n",
        "        patience=10,\n",
        "        save_period=10\n",
        "    )\n",
        "\n",
        "    # Model validation\n",
        "    print(\"\\nPerforming model validation...\")\n",
        "    validation_results = yolo_model.val(data='pascal_voc.yaml')\n",
        "\n",
        "    # Comprehensive metric evaluation\n",
        "    print(\"\\nComputing comprehensive accuracy metrics...\")\n",
        "    detailed_metrics = compute_detection_metrics(yolo_model, validation_dataset, evaluation_samples=300)\n",
        "\n",
        "    # Results summary\n",
        "    print(\"\\n\" + \"=\" * 55)\n",
        "    print(\"TRAINING RESULTS SUMMARY\")\n",
        "    print(\"=\" * 55)\n",
        "    print(f\"mAP@0.5:                 {validation_results.box.map50:.4f}\")\n",
        "    print(f\"mAP@0.5:0.95:            {validation_results.box.map:.4f}\")\n",
        "    print(f\"Detection Accuracy:      {detailed_metrics['detection_accuracy']:.4f}\")\n",
        "    print(f\"Classification Accuracy: {detailed_metrics['classification_accuracy']:.4f}\")\n",
        "    print(f\"Precision:               {detailed_metrics['precision']:.4f}\")\n",
        "    print(f\"Recall:                  {detailed_metrics['recall']:.4f}\")\n",
        "    print(f\"F1 Score:                {detailed_metrics['f1_score']:.4f}\")\n",
        "    print(f\"Mean IoU:                {detailed_metrics['mean_iou']:.4f}\")\n",
        "    print(\"=\" * 55)\n",
        "\n",
        "    # Generate visualizations\n",
        "    visualize_training_metrics('yolo_pascal_voc')\n",
        "\n",
        "    # Save trained model\n",
        "    yolo_model.save('trained_yolo_pascal_voc.pt')\n",
        "    print(\"\\nTrained model saved as 'trained_yolo_pascal_voc.pt'\")\n",
        "\n",
        "if __name__ == \"__main__\":\n",
        "    execute_training_pipeline()"
      ]
    }
  ]
}